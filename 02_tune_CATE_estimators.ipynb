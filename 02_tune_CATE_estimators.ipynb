{
 "cells": [
  {
   "cell_type": "markdown",
   "metadata": {},
   "source": [
    "# 02 Tune CATE estimators\n",
    "\n",
    "In this notebook, we will tune the hyperparemeters for our CATE methods."
   ]
  },
  {
   "cell_type": "markdown",
   "metadata": {},
   "source": [
    "### Contents:\n",
    "1. Description of estimator library  \n",
    "2. Setting up  \n",
    "3. Actual tuning"
   ]
  },
  {
   "cell_type": "markdown",
   "metadata": {},
   "source": [
    "## 1. Description of estimator library"
   ]
  },
  {
   "cell_type": "markdown",
   "metadata": {},
   "source": [
    "We will consider the following estimators:\n",
    "\n",
    "1. S-learner:  \n",
    "A. RF  \n",
    "B. XGB\n",
    "2. T-learner:  \n",
    "A. Lasso  \n",
    "B. logistic  \n",
    "C. RF  \n",
    "D. XGB\n",
    "3. X-learner:  \n",
    "A. Outcome_learner: lasso, effect_learner: lasso  \n",
    "B. Outcome_learner: logistic, effect_learner: lasso  \n",
    "C. Outcome_learner: RF, effect_learner: lasso  \n",
    "D. Outcome_learner: XGB, effect_learner: lasso\n",
    "4. R-learner:  \n",
    "A. Outcome_learner: lasso, effect_learner: lasso  \n",
    "B. Outcome_learner: lasso, effect_learner: XGB  \n",
    "C. Outcome_learner: RF, effect_learner: lasso  \n",
    "E. Outcome_learner: RF, effect_learner: RF\n",
    "\n",
    "R-learner base learner types were chosen independently at random from {lasso, RF, XGB}"
   ]
  },
  {
   "cell_type": "markdown",
   "metadata": {},
   "source": [
    "We will tune the models for the 4 outcomes: GI, cardio, hypertension, severe GI, without perturbations."
   ]
  },
  {
   "cell_type": "markdown",
   "metadata": {},
   "source": [
    "## 2. Setting up"
   ]
  },
  {
   "cell_type": "code",
   "execution_count": 6,
   "metadata": {},
   "outputs": [
    {
     "name": "stdout",
     "output_type": "stream",
     "text": [
      "The autoreload extension is already loaded. To reload it, use:\n",
      "  %reload_ext autoreload\n"
     ]
    }
   ],
   "source": [
    "# Standard imports\n",
    "import numpy as np\n",
    "import pandas as pd\n",
    "import sys\n",
    "import copy\n",
    "import random\n",
    "import joblib\n",
    "\n",
    "# Import sklearn methods\n",
    "from xgboost import XGBRegressor\n",
    "from sklearn.ensemble import RandomForestRegressor\n",
    "from sklearn.linear_model import Lasso, LogisticRegression\n",
    "from sklearn.model_selection import StratifiedKFold\n",
    "\n",
    "# Import own methods\n",
    "from methods.data_processing import prepare_df, separate_vars\n",
    "from methods.cate_estimator_wrappers import (SLearnerWrapper, TLearnerWrapper,\n",
    "                                             XLearnerWrapper, RLearnerWrapper,\n",
    "                                             CausalTreeWrapper, CausalForestWrapper)\n",
    "from methods.cate_estimator_validation import make_estimator_library"
   ]
  },
  {
   "cell_type": "markdown",
   "metadata": {},
   "source": [
    "### 2.1. Defining some globals"
   ]
  },
  {
   "cell_type": "code",
   "execution_count": 2,
   "metadata": {},
   "outputs": [],
   "source": [
    "BASEDIR = \"/home/ubuntu/vioxx_vigor/\"\n",
    "DATA_PATH = BASEDIR + \"data/01_transformed/20jul2020/\"\n",
    "cv = StratifiedKFold(n_splits = 4, shuffle = True, random_state = 405)\n",
    "features = [\"male\", \"white\", \"US\", \"PUB_PRIOR_HISTORY\", 'elderly_65_adj',\n",
    "            \"HYPGRP\", \"DBTGRP\", \"CHLGRP\", \"ASPFDA\", \"ASCGRP\", 'obese',\n",
    "            \"PSTRDS\", \"PNSAIDS\", \"PNAPRXN\", \"smoker\", \"drinker\"]\n",
    "treatment_var = \"TREATED\""
   ]
  },
  {
   "cell_type": "markdown",
   "metadata": {},
   "source": [
    "### 2.2. Defining parameter grids and base learners"
   ]
  },
  {
   "cell_type": "code",
   "execution_count": 3,
   "metadata": {},
   "outputs": [],
   "source": [
    "lasso_grid = {\"alpha\" : np.logspace(-5,5,500) }\n",
    "logistic_grid = {\"penalty\" : [\"l1\", \"l2\"], \n",
    "                 \"C\" : np.logspace(-5,5,500)}\n",
    "rf_grid = {'min_samples_leaf': [10,50,100,200,300,400,500],\n",
    "           'max_depth': [3,4,5,6,7,8],\n",
    "           'bootstrap': [False, True],\n",
    "           'n_estimators': [100,200,300,400,500]}\n",
    "xgb_grid = {'max_depth': [5,6,7,8,9,10,11,12],\n",
    "            'gamma': [0, 0.1, 0.2, 0.3, 0.4],\n",
    "            'subsample': [0.7, 0.75, 0.8,1],\n",
    "            'reg_lambda': [100,150,200,250, 300, 350, 400],\n",
    "            'n_estimators': [200, 300, 400, 500, 600, 700, 800, 900, 1000],\n",
    "            'min_child_weight': [4,5,6,7,8,9,10],\n",
    "            'learning_rate': [0.1,0.125,0.15,0.175,0.2,0.225,0.25]}\n",
    "\n",
    "base_learners = {\"lasso\" : Lasso(),\n",
    "                 \"logistic\" : LogisticRegression(solver = \"liblinear\", \n",
    "                                                 max_iter = 500),\n",
    "                 \"rf\" : RandomForestRegressor(),\n",
    "                 \"xgb\" : XGBRegressor(objective = \"reg:squarederror\")}\n",
    "param_grids = {\"lasso\" : lasso_grid,\n",
    "               \"logistic\" : logistic_grid,\n",
    "               \"rf\" : rf_grid,\n",
    "               \"xgb\" : xgb_grid}"
   ]
  },
  {
   "cell_type": "markdown",
   "metadata": {},
   "source": [
    "### 2.3. Select 4 base learner type combinations for R-learner.\n",
    "##### (don't need to run this cell again)"
   ]
  },
  {
   "cell_type": "code",
   "execution_count": null,
   "metadata": {},
   "outputs": [],
   "source": [
    "r_learners_all = {}\n",
    "for name_1 in [\"lasso\", \"rf\", \"xgb\"]:\n",
    "    for name_2 in [\"lasso\", \"rf\", \"xgb\"]:\n",
    "        RLearnerWrapper(X, t, y, cv,\n",
    "                        outcome_learner = base_learners[name_1],\n",
    "                        effect_learner = base_learners[name_2],\n",
    "                        outcome_param_grid = param_grids[name_1],\n",
    "                        effect_param_grid = param_grids[name_2])\n",
    "random.seed(405)\n",
    "r_learner_names = random.sample(list(r_methods_all.keys()), 4)\n",
    "# r_learner_names = ['r_lassolasso', 'r_lassoxgb', 'r_rfrf', 'r_lassorf']"
   ]
  },
  {
   "cell_type": "markdown",
   "metadata": {},
   "source": [
    "## 3. Actual tuning"
   ]
  },
  {
   "cell_type": "code",
   "execution_count": null,
   "metadata": {},
   "outputs": [
    {
     "name": "stdout",
     "output_type": "stream",
     "text": [
      "=== Getting results for GI ===\n",
      "Tuning s_rf\n",
      "Tuning s_xgb\n",
      "Tuning t_lasso\n",
      "Tuning t_logistic\n",
      "Tuning t_rf\n",
      "Tuning t_xgb\n",
      "Tuning x_lasso\n",
      "Tuning x_logistic\n",
      "Tuning x_rf\n",
      "Tuning x_xgb\n",
      "Tuning r_lassolasso\n",
      "Tuning r_rfrf\n",
      "Tuning r_lassorf\n",
      "Tuning r_lassoxgb\n",
      "=== Getting results for cfd_cardio ===\n",
      "Tuning s_rf\n",
      "Tuning s_xgb\n",
      "Tuning t_lasso\n",
      "Tuning t_logistic\n",
      "Tuning t_rf\n",
      "Tuning t_xgb\n",
      "Tuning x_lasso\n",
      "Tuning x_logistic\n",
      "Tuning x_rf\n",
      "Tuning x_xgb\n",
      "Tuning r_lassolasso\n",
      "Tuning r_rfrf\n",
      "Tuning r_lassorf\n"
     ]
    }
   ],
   "source": [
    "results = {}\n",
    "for response_var in [\"GI\", \"cfd_cardio\", \"all_hypertension\", \"severe_GI\"]:\n",
    "    print(\"=== Getting results for \" + response_var + \" ===\")\n",
    "    DIR_PATH = DATA_PATH + response_var + \"/\"\n",
    "    trainval_df = prepare_df(DIR_PATH + \"trainval_data.csv\", \n",
    "                             features, response_var, treatment_var)\n",
    "    X, t, y = separate_vars(trainval_df, response_var, treatment_var)\n",
    "    results[response_var] = make_estimator_library(X, t, y, cv, \n",
    "                                                   base_learners, param_grids, \n",
    "                                                   n_iter = 200)\n",
    "    tuned_params = {}\n",
    "    for estimator_name, estimator in results[response_var].items():\n",
    "        tuned_params[estimator_name] = estimator.get_params()\n",
    "    joblib.dump(tuned_params, \"data_files/\" + \n",
    "                f\"{response_var}/{response_var}_tuned_params\")"
   ]
  }
 ],
 "metadata": {
  "kernelspec": {
   "display_name": "Python 3",
   "language": "python",
   "name": "python3"
  },
  "language_info": {
   "codemirror_mode": {
    "name": "ipython",
    "version": 3
   },
   "file_extension": ".py",
   "mimetype": "text/x-python",
   "name": "python",
   "nbconvert_exporter": "python",
   "pygments_lexer": "ipython3",
   "version": "3.6.6"
  }
 },
 "nbformat": 4,
 "nbformat_minor": 2
}
