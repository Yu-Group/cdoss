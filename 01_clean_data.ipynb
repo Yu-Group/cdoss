{
 "cells": [
  {
   "cell_type": "markdown",
   "metadata": {},
   "source": [
    "# 01 Clean data"
   ]
  },
  {
   "cell_type": "markdown",
   "metadata": {},
   "source": [
    "This notebook cleans the data in ``data/00_raw``, and outputs the data in ``data/01_transformed``.  \n",
    "We have a [readme](https://docs.google.com/document/d/1KNptTgujHjXXbZKJdZii28PmSVwae6pl4-3PE-36Di4/edit#) for the raw data files."
   ]
  },
  {
   "cell_type": "markdown",
   "metadata": {},
   "source": [
    "### Contents:\n",
    "1. Read data files  \n",
    "2. Add demographic and risk factor data  \n",
    "2.1. Start with demographic data  \n",
    "2.2 Add risk factor data  \n",
    "2.3 Add in history of PUB  \n",
    "3. Add outcome data  \n",
    "3.1. GI data  \n",
    "3.2. Cardiovascular data  \n",
    "3.3. Hypertension data  \n",
    "3.4. Cold/flu data  \n",
    "3.5. Nausea data  \n",
    "4. Data processing  \n",
    "4.1. Add GI, severe_GI and TREATED labels  \n",
    "4.2. Create binary features  \n",
    "4.3. Discussion of missing values  \n",
    "5. Split data and save"
   ]
  },
  {
   "cell_type": "markdown",
   "metadata": {},
   "source": [
    "## 1. Read data files"
   ]
  },
  {
   "cell_type": "code",
   "execution_count": 1,
   "metadata": {},
   "outputs": [],
   "source": [
    "import os\n",
    "import numpy as np\n",
    "import pandas as pd\n",
    "import warnings\n",
    "from sklearn.model_selection import train_test_split\n",
    "import matplotlib.pyplot as plt\n",
    "plt.style.use('seaborn')\n",
    "warnings.filterwarnings('ignore')"
   ]
  },
  {
   "cell_type": "code",
   "execution_count": 2,
   "metadata": {},
   "outputs": [],
   "source": [
    "DATA_PATH = os.path.join(\"../..\", \"data\", \"00_raw\")\n",
    "\n",
    "demog_df = pd.read_csv(os.path.join(DATA_PATH, \"DEMOG-088C.txt\"), sep = \"\\t\")\n",
    "endpoint_df = pd.read_csv(os.path.join(DATA_PATH,\"ENDPT14.txt\"), sep = \"\\t\")\n",
    "medhist_df = pd.read_csv(os.path.join(DATA_PATH,\"MEDHIST-088C.txt\"), sep = \"\\t\")\n",
    "conthrp_df = pd.read_csv(os.path.join(DATA_PATH,\"CONTHRP-088C.txt\"), sep = \"\\t\")\n",
    "drugexp_df = pd.read_csv(os.path.join(DATA_PATH,\"DRUGEXP-088C.txt\"), sep = \"\\t\")\n",
    "ae_df = pd.read_csv(os.path.join(DATA_PATH, \"AE-088C.txt\"), sep = \"\\t\")\n",
    "alcohol_df = pd.read_csv(os.path.join(DATA_PATH, \"ALCOHOL-088C.txt\"), sep = \"\\t\")\n",
    "tobacco_df = pd.read_csv(os.path.join(DATA_PATH,\"TOBACCO-088C.txt\"), sep = \"\\t\")\n",
    "riskfctr_df = pd.read_csv(os.path.join(DATA_PATH, \"VIGOR_RISKFCTR.mrk-zaa0000119.dat\"), \n",
    "                          sep = \"\\t\")"
   ]
  },
  {
   "cell_type": "markdown",
   "metadata": {},
   "source": [
    "## 2. Add demographic and risk factor data"
   ]
  },
  {
   "cell_type": "markdown",
   "metadata": {},
   "source": [
    "We will construct a dataframe ``full_df`` step-wise."
   ]
  },
  {
   "cell_type": "markdown",
   "metadata": {},
   "source": [
    "### 2.1. Start with demographic data"
   ]
  },
  {
   "cell_type": "code",
   "execution_count": 3,
   "metadata": {},
   "outputs": [
    {
     "data": {
      "text/plain": [
       "Index(['CMPDNUM', 'PROTOCOL', 'STUDYNUM', 'AN', 'AGE', 'AGE_UNIT', 'GENDER',\n",
       "       'RACE', 'TREATMNT', 'COUNTRY', 'DAYS_IN', 'DAYS_TRT', 'DISPOSTN',\n",
       "       'HEIGHT_C', 'WEIGHT_K'],\n",
       "      dtype='object')"
      ]
     },
     "execution_count": 3,
     "metadata": {},
     "output_type": "execute_result"
    }
   ],
   "source": [
    "demog_df.columns"
   ]
  },
  {
   "cell_type": "code",
   "execution_count": 4,
   "metadata": {},
   "outputs": [],
   "source": [
    "# Create the data frame from demog df\n",
    "full_df = demog_df\n",
    "\n",
    "# Convert columns to numeric\n",
    "full_df[\"HEIGHT_C\"] = full_df[\"HEIGHT_C\"].apply(lambda x: np.nan if x == \".\" \n",
    "                                                else float(x))\n",
    "full_df[\"WEIGHT_K\"] = full_df[\"WEIGHT_K\"].apply(lambda x: np.nan if x == \".\" \n",
    "                                                else float(x))"
   ]
  },
  {
   "cell_type": "markdown",
   "metadata": {},
   "source": [
    "Add life expectancy data"
   ]
  },
  {
   "cell_type": "code",
   "execution_count": 5,
   "metadata": {},
   "outputs": [],
   "source": [
    "countries = full_df.COUNTRY.unique()\n",
    "\n",
    "# Downloaded from https://ourworldindata.org/life-expectancy (world bank)\n",
    "# https://ourworldindata.org/grapher/life-expectancy-at-birth-total-years\n",
    "\n",
    "life_expect = pd.read_csv(os.path.join(DATA_PATH, \n",
    "                                       \"life-expectancy-at-birth-total-years.csv\"), \n",
    "                          sep = \",\")\n",
    "life_expect = life_expect.rename(columns = {'Entity': 'COUNTRY', \n",
    "                'Life expectancy at birth, total (years) (years)': \"Life_Expect\"})\n",
    "life_expect = life_expect[(life_expect[\"COUNTRY\"].isin(countries)) & \n",
    "                          (life_expect[\"Year\"]==1998)].reset_index()\n",
    "life_expect = life_expect[['COUNTRY', \"Life_Expect\"]]\n",
    "\n",
    "full_df = pd.merge(full_df, life_expect, how=\"left\")"
   ]
  },
  {
   "cell_type": "markdown",
   "metadata": {},
   "source": [
    "### 2.2 Add risk factor data"
   ]
  },
  {
   "cell_type": "markdown",
   "metadata": {},
   "source": [
    "Try to find H Pylori data"
   ]
  },
  {
   "cell_type": "code",
   "execution_count": 6,
   "metadata": {},
   "outputs": [
    {
     "name": "stdout",
     "output_type": "stream",
     "text": [
      "H Pylori terms are  ['Helicobacter gastritis' 'Helicobacter infection'\n",
      " 'anti-Helicobacter pylori antibody positive' 'prepyloric ulcer'\n",
      " 'pyloric stenosis']\n",
      "Number of patients with H Pylori history: 43\n"
     ]
    }
   ],
   "source": [
    "key_terms = [\"pylori\", \"Helicobacter\"]\n",
    "hpylori_terms = np.unique(np.hstack(([s for s in ae_df.REPTTERM.unique() \n",
    "                                      if np.any([key.lower() in s.lower() \n",
    "                                                 for key in key_terms])],\n",
    "                                   [str(s) for s in medhist_df.REPTTERM.unique() \n",
    "                                    if np.any([key.lower() in str(s).lower() \n",
    "                                               for key in key_terms])])))\n",
    "\n",
    "print('H Pylori terms are ', hpylori_terms)\n",
    "\n",
    "hyplori_pos_patients = medhist_df[medhist_df.REPTTERM.isin(hpylori_terms)].AN.unique()\n",
    "print(f\"Number of patients with H Pylori history: {len(hyplori_pos_patients)}\")"
   ]
  },
  {
   "cell_type": "markdown",
   "metadata": {},
   "source": [
    "Warning: This number don't match anywhere close to 43% ~ 3440 patients as claimed in line 2 of page B-29  \n",
    "of 2000-06-22 SI document. We hence omit this data."
   ]
  },
  {
   "cell_type": "code",
   "execution_count": 7,
   "metadata": {},
   "outputs": [
    {
     "data": {
      "text/plain": [
       "Index(['ALLOC', 'AGE', 'AGEGRP', 'SEXGRP', 'SMKGRP', 'HYPGRP', 'DBTGRP',\n",
       "       'CHLGRP', 'ASPFDA', 'ASCGRP', 'STUDY', 'BASENUM', 'TRMT', 'PSTRDS',\n",
       "       'PNSAIDS', 'PNAPRXN'],\n",
       "      dtype='object')"
      ]
     },
     "execution_count": 7,
     "metadata": {},
     "output_type": "execute_result"
    }
   ],
   "source": [
    "riskfctr_df.columns"
   ]
  },
  {
   "cell_type": "code",
   "execution_count": 8,
   "metadata": {},
   "outputs": [],
   "source": [
    "# Steroid use in \"VIGOR_RISKFCTR.mrk-zaa0000119.dat\" under PSTRDS\n",
    "# patient 1751 does not have an entry in alcohol_df\n",
    "\n",
    "full_df = full_df.merge(alcohol_df[[\"AN\", \"RESPONSE\"]], on = \"AN\", how = \"outer\") \\\n",
    "                 .rename(columns = {\"RESPONSE\" : \"ALCOHOL\"}) \\\n",
    "                 .merge(tobacco_df[tobacco_df.QUESTION == \"Cigarette Use\"] \\\n",
    "                        [[\"AN\", \"RESPONSE\"]], on = \"AN\") \\\n",
    "                 .rename(columns = {\"RESPONSE\" : \"SMOKING\"}) \\\n",
    "                 .merge(riskfctr_df.drop(columns = [\"AGE\", \"SEXGRP\", \"STUDY\", \n",
    "                                                    \"SMKGRP\", \"BASENUM\", \"TRMT\"]), \n",
    "                        left_on = \"AN\", right_on = \"ALLOC\") \\\n",
    "                 .drop(columns = [\"ALLOC\"]) \\\n",
    "                 .set_index(\"AN\")\n",
    "#full_df[\"HPYLORI\"] = full_df.index.isin(hyplori_pos_patients).astype(int)"
   ]
  },
  {
   "cell_type": "markdown",
   "metadata": {},
   "source": [
    "### 2.3 Add in history of PUB"
   ]
  },
  {
   "cell_type": "markdown",
   "metadata": {},
   "source": [
    "Bombardier et al. claims that the randomization in the VIGOR study was stratified \"according to the presence or absence of  \n",
    "a history of gastroduodenal ulcer, upper gastrointestinal bleeding, and gastroduodenal perforation\". We use this as the  \n",
    "definition of PUB prior history, and came up with a list of reported terms that fell under this definition.\n",
    "\n",
    "More precisely, we searched in `medhist_df` for terms that seemed to fall under these categories."
   ]
  },
  {
   "cell_type": "code",
   "execution_count": 9,
   "metadata": {},
   "outputs": [
    {
     "name": "stdout",
     "output_type": "stream",
     "text": [
      "Number of patients with pub history:  630 \n",
      "\n"
     ]
    }
   ],
   "source": [
    "gastro_history_terms = ['gastrointestinal bleeding', 'gastroduodenal ulcer', \n",
    "                        'gastric perforation', 'perforating duodenal ulcer', \n",
    "                        'perforating gastric ulcer', 'gastrointestinal ulcer', \n",
    "                        'gastric ulcer','perforating duodenal ulcer', \n",
    "                        'perforating gastric ulcer', 'perforating hemorrhagic gastric ulcer', \n",
    "                        'hemorrhagic duodenal ulcer', 'hemorrhagic peptic ulcer', \n",
    "                        'gastrointestinal submucosal hemorrhage', 'hemorrhagic gastric ulcer', \n",
    "                        'prepyloric ulcer', 'omental patch (perforating duodenal ulcer)',\n",
    "                        'duodenal ulcer', 'peptic ulcer', 'erosive gastritis', \n",
    "                        'gastric erosion','duodenal erosion', 'gastroduodenitis', \n",
    "                        'gastric hemorrhage']\n",
    "\n",
    "pub_df = medhist_df.loc[medhist_df.REPTTERM.isin(gastro_history_terms)]\n",
    "\n",
    "# Patients with pub history\n",
    "patients_with_history = np.unique(pub_df.AN)\n",
    "\n",
    "full_df['PUB_PRIOR_HISTORY'] = full_df.index.isin(patients_with_history).astype(int)\n",
    "\n",
    "print(\"Number of patients with pub history: \", sum(full_df['PUB_PRIOR_HISTORY']), '\\n')"
   ]
  },
  {
   "cell_type": "markdown",
   "metadata": {},
   "source": [
    "This matches with Table 2 in Bombardier et al. (They had 316+314 = 630 patients with history.)"
   ]
  },
  {
   "cell_type": "markdown",
   "metadata": {},
   "source": [
    "## 3. Add outcome data"
   ]
  },
  {
   "cell_type": "markdown",
   "metadata": {},
   "source": [
    "### 3.1. GI data"
   ]
  },
  {
   "cell_type": "code",
   "execution_count": 10,
   "metadata": {},
   "outputs": [
    {
     "data": {
      "text/plain": [
       "array(['d', 'p', 'b', 'g', 'o'], dtype=object)"
      ]
     },
     "execution_count": 10,
     "metadata": {},
     "output_type": "execute_result"
    }
   ],
   "source": [
    "event_types = endpoint_df.EVTTYPE.unique()\n",
    "event_types"
   ]
  },
  {
   "cell_type": "markdown",
   "metadata": {},
   "source": [
    "d: duodenal ulcer  \n",
    "p: perforation  \n",
    "b: bleeding  \n",
    "g: gastric ulcer  \n",
    "o: obstruction  \n",
    "*For more information, see Bombardier et al.*"
   ]
  },
  {
   "cell_type": "code",
   "execution_count": 11,
   "metadata": {},
   "outputs": [],
   "source": [
    "# Create dictionaries whose keys are event types (d, g, b, etc.), and whose \n",
    "# values are the list of patients who experienced these events. Events can be \n",
    "# confirmed or not, complicated or not. We create a dictionary for each of \n",
    "# these modifiers\n",
    "\n",
    "event_types = endpoint_df.EVTTYPE.unique()\n",
    "patients_w_events = {}\n",
    "patients_w_cfd_events = {}\n",
    "patients_w_cmp_events = {}\n",
    "\n",
    "for event_type in event_types:\n",
    "    patients_w_events[event_type] = endpoint_df[endpoint_df.EVTTYPE == event_type] \\\n",
    "                                            .ALLOC.unique()\n",
    "    \n",
    "for event_type in event_types:\n",
    "    patients_w_cfd_events[event_type] = endpoint_df[(endpoint_df.EVTTYPE == event_type) &\n",
    "                                                   (endpoint_df.ENDPOINT == 1)] \\\n",
    "                                            .ALLOC.unique()\n",
    "for event_type in event_types:\n",
    "    patients_w_cmp_events[event_type] = endpoint_df[(endpoint_df.EVTTYPE == event_type) &\n",
    "                                                   (endpoint_df.ENDPOINT == 4)] \\\n",
    "                                            .ALLOC.unique()\n",
    "\n",
    "patients_w_events[\"all\"] = endpoint_df.ALLOC.unique()\n",
    "patients_w_cfd_events[\"all\"] = endpoint_df[endpoint_df.ENDPOINT == 1].ALLOC.unique()\n",
    "patients_w_cmp_events[\"all\"] = endpoint_df[endpoint_df.ENDPOINT == 4].ALLOC.unique()\n",
    "\n",
    "event_types = np.append(event_types, \"all\")"
   ]
  },
  {
   "cell_type": "code",
   "execution_count": 12,
   "metadata": {},
   "outputs": [],
   "source": [
    "# We create our cleaned data frame starting with a column comprising the allocation \n",
    "# numbers for each patient\n",
    "cleaned_endpoint_df = pd.DataFrame({\"AN\" : demog_df.AN})\n",
    "\n",
    "# We add columns for each of the event types and modifiers\n",
    "for event_type in event_types:\n",
    "    cleaned_endpoint_df[event_type + \"_event\"] = cleaned_endpoint_df.AN \\\n",
    "                    .apply(lambda x: x in patients_w_events[event_type]).astype(int)\n",
    "    cleaned_endpoint_df[event_type + \"_event_cfd\"] = cleaned_endpoint_df.AN \\\n",
    "                    .apply(lambda x: x in patients_w_cfd_events[event_type]).astype(int)\n",
    "    cleaned_endpoint_df[event_type + \"_event_cmp\"] = cleaned_endpoint_df.AN \\\n",
    "                    .apply(lambda x: x in patients_w_cmp_events[event_type]).astype(int)\n",
    "\n",
    "cleaned_endpoint_df = cleaned_endpoint_df.set_index(\"AN\")\n",
    "\n",
    "# Add an event date column\n",
    "cleaned_endpoint_df[\"EVENTDT\"] = endpoint_df.sort_values(\"EVENTDT\").groupby(\"ALLOC\") \\\n",
    "                                            .first()[\"EVENTDT\"]\n",
    "\n",
    "# Merge with full_df\n",
    "full_df = full_df.merge(cleaned_endpoint_df, left_index = True, right_index = True)"
   ]
  },
  {
   "cell_type": "markdown",
   "metadata": {},
   "source": [
    "#### 3.1.1 Add in time to event"
   ]
  },
  {
   "cell_type": "code",
   "execution_count": 13,
   "metadata": {},
   "outputs": [],
   "source": [
    "\"\"\"\n",
    "* Convert strings to datetime format\n",
    "\"\"\"\n",
    "drugexp_df.RAND_DT = pd.to_datetime(drugexp_df.RAND_DT)\n",
    "\n",
    "\"\"\"\n",
    "* Get Randomization date\n",
    "\"\"\"\n",
    "randDT = drugexp_df.RAND_DT.groupby(drugexp_df.AN).min().to_frame()\n",
    "\n",
    "\"\"\"\n",
    "* Merge date data with full dataframe\n",
    "\"\"\"\n",
    "full_df = full_df.merge(randDT, on = 'AN')\n",
    "\n",
    "\"\"\"\n",
    "* Incorporate event times\n",
    "\"\"\"\n",
    "full_df.EVENTDT = pd.to_datetime(full_df.EVENTDT)\n",
    "\n",
    "\"\"\"\n",
    "* Get time to event by taking the difference + 1\n",
    "\"\"\"\n",
    "full_df['time_to_GI'] = full_df.EVENTDT - full_df.RAND_DT\n",
    "full_df['time_to_GI'] = full_df['time_to_GI'].dt.days\n",
    "full_df['time_to_GI'].replace({np.nan: -2}, inplace = True)\n",
    "full_df['time_to_GI'] = full_df['time_to_GI'] + 1\n",
    "full_df['time_to_GI'].replace({-1: np.nan}, inplace = True)\n",
    "\n",
    "# Check that NA values align\n",
    "assert np.sum(~full_df['time_to_GI'].isna()) == full_df['all_event'].sum()"
   ]
  },
  {
   "cell_type": "markdown",
   "metadata": {},
   "source": [
    "#### 3.1.2 Censoring checks -- DO NOT RUN THIS CURRENTLY"
   ]
  },
  {
   "cell_type": "code",
   "execution_count": 8,
   "metadata": {},
   "outputs": [],
   "source": [
    "\"\"\"\n",
    "* Get Censoring times\n",
    "\"\"\"\n",
    "full_df['BP_censoring'] = 0\n",
    "patients = np.unique(drugexp_df.AN)\n",
    "\n",
    "\"\"\"\n",
    "* Function to calculate censoring time such that days treated\n",
    "* must be 75% of the total censoring time\n",
    "\"\"\"\n",
    "def countTotal(subdata, daysTreated):\n",
    "    subdata = subdata.sort_values(by=['START_DY'])\n",
    "    start = subdata.START_DY.iloc[0]\n",
    "    end = subdata.STOP_DY.iloc[0]\n",
    "    \n",
    "    for i in range(subdata.shape[0]):\n",
    "        daysCan = subdata.STOP_DY.iloc[i] - subdata.START_DY.iloc[i] + 1\n",
    "        endCan = subdata.STOP_DY.iloc[i]\n",
    "        if (daysTreated)/(endCan-start+1) >= 0.75:\n",
    "            end = endCan\n",
    "    return end - start + 1\n",
    "\n",
    "for patient in patients:\n",
    "    subdata = drugexp_df.loc[drugexp_df.AN == patient]\n",
    "    \"\"\"\n",
    "    * Remove 0 doses and placebo\n",
    "    \"\"\"\n",
    "    subdata = subdata.loc[subdata.TOTLDOS > 0]\n",
    "    subdata = subdata.loc[subdata.THERAPY != 'Placebo']\n",
    "    subdata = subdata.loc[np.logical_and(subdata.START_DY > 0, subdata.STOP_DY > 0)]\n",
    "    \n",
    "    daysTreated = full_df['DAYS_TRT'].loc[full_df.index == patient]\n",
    "    full_df['BP_censoring'].loc[full_df.index == patient] = \\\n",
    "                            countTotal(subdata, daysTreated.values[0])"
   ]
  },
  {
   "cell_type": "code",
   "execution_count": 10,
   "metadata": {},
   "outputs": [
    {
     "name": "stdout",
     "output_type": "stream",
     "text": [
      "[246. 260. 274. 287. 296. 307. 317. 330. 349. 416.]\n",
      "[ 47. 145. 239. 252. 271. 287. 299. 312. 334. 396.]\n",
      "[ 47. 147. 239. 253. 273. 288. 301. 314. 336. 396.]\n"
     ]
    }
   ],
   "source": [
    "\"\"\"\n",
    "* Quantiles of DAYS_IN, doesn't seem to match Figure 1 of Bombadier et al.\n",
    "\"\"\"\n",
    "print(np.quantile(full_df['DAYS_IN'], \n",
    "                  [0.1, 0.2, 0.3, 0.4, 0.5, 0.6 ,0.7,0.8,0.9,1.0], axis=0))\n",
    "\n",
    "\"\"\"\n",
    "* Quantiles of censoring approximation, matches better with Figure 1\n",
    "\"\"\"\n",
    "print(np.quantile(full_df['DAYS_TRT'], \n",
    "                  [0.1, 0.2, 0.3, 0.4, 0.5, 0.6 ,0.7,0.8,0.9,1.0], axis=0))\n",
    "\n",
    "\"\"\"\n",
    "* Quantiles of BP approximation, matches better with Figure 1\n",
    "\"\"\"\n",
    "print(np.quantile(full_df['BP_censoring'], \n",
    "                  [0.1, 0.2, 0.3, 0.4, 0.5, 0.6 ,0.7,0.8,0.9,1.0], axis=0))"
   ]
  },
  {
   "cell_type": "markdown",
   "metadata": {},
   "source": [
    "### 3.2. Cardiovascular data\n",
    "\n",
    "#### Notes on non-GI events:  \n",
    "- In ``ae_df``, there is a field ``PERIOD = ['Treatment', 'Post-Study', 'Pre-Treatment']``.  \n",
    "We drop 'Pre-Treatment' events.\n",
    "- ``REL_DAY`` is the time to event; I verified using ``ae_df.REL_DAY == ae_df.START_DT - full_df.RAND_DT + 1``\n",
    "- Other fields that may be of relevance:  \n",
    "`\"AN\", \"AE_CONT\", 'AE_TYPE','aedurdays', 'ACTION', 'CAUSAL'`,  \n",
    "`\"confirmedCVT\", 'REPTTERM', 'INTENSIT','PERIOD', 'REL_DAY' 'SERIOUS', 'OUTCOME'`\n",
    "     \n"
   ]
  },
  {
   "cell_type": "markdown",
   "metadata": {},
   "source": [
    "For cardio-vascular events, we don't have to hunt for it since they already defined it in the following field:  \n",
    "``confirmedCVT = 1`` (Confirmed), ``0`` (not cardio related) and ``-1`` (rejected by panels).\n",
    "\n",
    "We may do two kinds of analysis, including and excluding -1"
   ]
  },
  {
   "cell_type": "code",
   "execution_count": 14,
   "metadata": {},
   "outputs": [
    {
     "name": "stdout",
     "output_type": "stream",
     "text": [
      "Patients with confirmed cardiovascular event = 59\n",
      "Patients with multiple cfd cardiovascular event = 2\n",
      "The terms for confirmed cardiovascular issues are \n",
      "myocardial infarction                          20\n",
      "cerebrovascular accident                       12\n",
      "deep venous thrombosis                          5\n",
      "acute myocardial infarction                     4\n",
      "transient ischemic attack                       4\n",
      "unstable angina                                 3\n",
      "angina pectoris                                 2\n",
      "coronary artery disease                         2\n",
      "hemiparesis                                     1\n",
      "intracranial hemorrhage                         1\n",
      "ventricular fibrillation                        1\n",
      "cerebral infarction                             1\n",
      "acute inferoposterior myocardial infarction     1\n",
      "arterial embolism                               1\n",
      "cardiac arrest                                  1\n",
      "embolic stroke                                  1\n",
      "acute inferior myocardial infarction            1\n",
      "Name: REPTTERM, dtype: int64\n",
      "\n",
      "Patients with all cardiovascular event = 84\n",
      "Patients with multiple all cardiovascular event = 2\n",
      "The terms for all cardiovascular issues are \n",
      "myocardial infarction                          21\n",
      "cerebrovascular accident                       16\n",
      "unstable angina                                 6\n",
      "transient ischemic attack                       6\n",
      "deep venous thrombosis                          5\n",
      "angina pectoris                                 5\n",
      "coronary artery disease                         5\n",
      "acute myocardial infarction                     4\n",
      "intracranial hemorrhage                         2\n",
      "ischemic heart disease                          2\n",
      "acute inferoposterior myocardial infarction     1\n",
      "cerebrovascular disorder                        1\n",
      "embolic stroke                                  1\n",
      "arterial occlusion                              1\n",
      "arterial embolism                               1\n",
      "hemiparesis                                     1\n",
      "arterial stenosis                               1\n",
      "femoral artery occlusion                        1\n",
      "cerebral infarction                             1\n",
      "ventricular fibrillation                        1\n",
      "cardiac arrest                                  1\n",
      "carotid artery stenosis                         1\n",
      "venous insufficiency                            1\n",
      "acute inferior myocardial infarction            1\n",
      "Name: REPTTERM, dtype: int64\n",
      "\n"
     ]
    }
   ],
   "source": [
    "#### Exluding -1 ####\n",
    "ae_df[\"cfd_cardio\"] = (ae_df[\"confirmedCVT\"] == 1) & \\\n",
    "                      (ae_df['PERIOD'] != 'Pre-Treatment')\n",
    "patients_with_cardio_issues = ae_df[ae_df[\"cfd_cardio\"]==1].AN.unique()\n",
    "print('Patients with confirmed cardiovascular event = %d'% \\\n",
    "      (len(patients_with_cardio_issues)))\n",
    "print('Patients with multiple cfd cardiovascular event = %d'% \\\n",
    "      (sum(ae_df[ae_df[\"cfd_cardio\"]==1].AN.value_counts()>1)))\n",
    "print('The terms for confirmed cardiovascular issues are ')\n",
    "print(ae_df[ae_df[\"cfd_cardio\"]==1][\"REPTTERM\"].value_counts())\n",
    "print()\n",
    "\n",
    "full_df['cfd_cardio'] = 0\n",
    "full_df['cfd_cardio'].loc[full_df.index.isin(patients_with_cardio_issues)] = 1\n",
    "\n",
    "# Adding time to event\n",
    "full_df = full_df.merge(ae_df[ae_df[\"cfd_cardio\"]==1].REL_DAY.groupby(ae_df.AN) \\\n",
    "                        .min().to_frame(),\n",
    "                        on=\"AN\", how='left')\n",
    "full_df[\"time_to_cfd_cardio\"] = full_df[\"REL_DAY\"]\n",
    "full_df = full_df.drop([\"REL_DAY\"], axis=1)\n",
    "\n",
    "\n",
    "#### Including -1 ####\n",
    "ae_df[\"all_cardio\"] = ((ae_df[\"confirmedCVT\"] == 1) |(ae_df[\"confirmedCVT\"] == -1)) & \\\n",
    "                      (ae_df['PERIOD'] != 'Pre-Treatment')\n",
    "patients_with_cardio_issues = ae_df[ae_df[\"all_cardio\"]==1].AN.unique()\n",
    "print('Patients with all cardiovascular event = %d'%(len(patients_with_cardio_issues)))\n",
    "print('Patients with multiple all cardiovascular event = %d'% \\\n",
    "      (sum(ae_df[ae_df[\"all_cardio\"]==1].AN.value_counts()>1)))\n",
    "print('The terms for all cardiovascular issues are ')\n",
    "print(ae_df[ae_df[\"all_cardio\"]==1][\"REPTTERM\"].value_counts())\n",
    "print()\n",
    "\n",
    "full_df['all_cardio'] = 0\n",
    "full_df['all_cardio'].loc[full_df.index.isin(patients_with_cardio_issues)] = 1\n",
    "\n",
    "# Adding time to event\n",
    "full_df = full_df.merge(ae_df[ae_df[\"all_cardio\"]==1].REL_DAY.groupby(ae_df.AN) \\\n",
    "                        .min().to_frame(),\n",
    "                        on=\"AN\", how='left')\n",
    "full_df[\"time_to_all_cardio\"] = full_df[\"REL_DAY\"]\n",
    "full_df = full_df.drop([\"REL_DAY\"], axis=1)\n",
    "\n",
    "#### To check the validity of REL_DAY with other dataframes ####\n",
    "# ae_df[(ae_df.AN==an) & (ae_df.cardio==1)].START_DT.index.values[0]\n",
    "# full_df[(full_df.AN==an) & (full_df.cardio==1)].RAND_DT.index.values[0]"
   ]
  },
  {
   "cell_type": "markdown",
   "metadata": {},
   "source": [
    "### 3.3. Hypertension data"
   ]
  },
  {
   "cell_type": "markdown",
   "metadata": {},
   "source": [
    "Search for the key terms and remove *hypotension*; 90% of them are stated directly as hypertension  \n",
    "and other are minor variants (several for same individual)"
   ]
  },
  {
   "cell_type": "code",
   "execution_count": 15,
   "metadata": {},
   "outputs": [
    {
     "name": "stdout",
     "output_type": "stream",
     "text": [
      "Hypertension terms are  ['borderline hypertension' 'diastolic hypertension' 'hypertension'\n",
      " 'hypertension uncontrolled with medication' 'labile hypertension'\n",
      " 'pulmonary hypertension' 'systolic hypertension'\n",
      " 'uncontrolled hypertension']\n",
      "hypertension                                 616\n",
      "uncontrolled hypertension                      7\n",
      "hypertension uncontrolled with medication      7\n",
      "systolic hypertension                          5\n",
      "borderline hypertension                        4\n",
      "diastolic hypertension                         2\n",
      "labile hypertension                            2\n",
      "pulmonary hypertension                         2\n",
      "Name: REPTTERM, dtype: int64\n",
      "Patients with hyper-tension = 543\n",
      "Patients with multiple hyper-tension= 56\n",
      "Patients with ALL hyper-tension = 567\n",
      "Patients with multiple ALL hyper-tension= 60\n"
     ]
    }
   ],
   "source": [
    "# search for tension in REPTTERM  but NOT hypotension\n",
    "sub = \"tension\"\n",
    "tension_terms = np.unique([s for s in ae_df.REPTTERM.unique() \n",
    "                           if sub.lower() in s.lower() and \"hypo\" not in s.lower()])\n",
    "#print('Hypertension terms are ', tension_terms, '\\n Will remove tension headache')\n",
    "idx = np.where(tension_terms=='tension headache')[0]\n",
    "tension_terms = np.delete(tension_terms, idx)\n",
    "print('Hypertension terms are ', tension_terms)\n",
    "\n",
    "print(ae_df[ae_df.REPTTERM.isin(tension_terms)][\"REPTTERM\"].value_counts())\n",
    "ae_df[\"all_hypertension\"] = ae_df.REPTTERM.apply(lambda x: 1 if x in tension_terms \n",
    "                                                 else 0)\n",
    "# includes other kinds of hypertension, like 'diastolic/labile hypertension'..\n",
    "ae_df[\"just_hypertension\"] = ae_df.REPTTERM.apply(lambda x: 1 \n",
    "                                                  if x == \"hypertension\" else 0)\n",
    "# includes only direct hypertension mention\n",
    "\n",
    "######## hypertension ########\n",
    "# Removing 'Pre-Treatment' events \n",
    "ae_df[\"just_hypertension\"] = (ae_df[\"just_hypertension\"] == 1) & \\\n",
    "                             (ae_df['PERIOD'] != 'Pre-Treatment')\n",
    "patients_with_tension_issues = ae_df[ae_df[\"just_hypertension\"]==1].AN.unique()\n",
    "full_df['just_hypertension'] = 0\n",
    "full_df['just_hypertension'].loc[full_df.index.isin(patients_with_tension_issues)] = 1\n",
    "print('Patients with hyper-tension = %d'%(len(patients_with_tension_issues)))\n",
    "print('Patients with multiple hyper-tension= %d'% \\\n",
    "      (sum(ae_df[ae_df[\"just_hypertension\"]==1].AN.value_counts()>1)))\n",
    "\n",
    "\n",
    "# adding time to event\n",
    "full_df = full_df.merge(ae_df[ae_df[\"just_hypertension\"]==1].REL_DAY \\\n",
    "                        .groupby(ae_df.AN).min().to_frame(),\n",
    "                        on=\"AN\", how='left')\n",
    "full_df[\"time_to_just_hypertension\"] = full_df[\"REL_DAY\"]\n",
    "full_df = full_df.drop([\"REL_DAY\"], axis=1)\n",
    "\n",
    "\n",
    "######## all_hypertension ########\n",
    "# Removing 'Pre-Treatment' events \n",
    "ae_df[\"all_hypertension\"] = (ae_df[\"all_hypertension\"] == 1) & \\\n",
    "                            (ae_df['PERIOD'] != 'Pre-Treatment')\n",
    "patients_with_tension_issues = ae_df[ae_df[\"all_hypertension\"]==1].AN.unique()\n",
    "full_df['all_hypertension'] = 0\n",
    "full_df['all_hypertension'].loc[full_df.index.isin(patients_with_tension_issues)] = 1\n",
    "print('Patients with ALL hyper-tension = %d'%(len(patients_with_tension_issues)))\n",
    "print('Patients with multiple ALL hyper-tension= %d'% \\\n",
    "      (sum(ae_df[ae_df[\"all_hypertension\"]==1].AN.value_counts()>1)))\n",
    "\n",
    "\n",
    "# adding time to event\n",
    "full_df = full_df.merge(ae_df[ae_df[\"all_hypertension\"]==1].REL_DAY \\\n",
    "                        .groupby(ae_df.AN).min().to_frame(),\n",
    "                        on = \"AN\", how = 'left')\n",
    "full_df[\"time_to_all_hypertension\"] = full_df[\"REL_DAY\"]\n",
    "full_df = full_df.drop([\"REL_DAY\"], axis=1)"
   ]
  },
  {
   "cell_type": "markdown",
   "metadata": {},
   "source": [
    "567 patients had ALL hypertension, 60 patients had multiple tension entries, 20 of which are repeated with  \n",
    "DURATION AND TOTLDOS as the only different fields between the two entries, 35 of them had two  \n",
    "different hypertension evets, and 5 of them had 3 tension related events "
   ]
  },
  {
   "cell_type": "markdown",
   "metadata": {},
   "source": [
    "### 3.4 Cold/flu data"
   ]
  },
  {
   "cell_type": "code",
   "execution_count": 16,
   "metadata": {},
   "outputs": [
    {
     "name": "stdout",
     "output_type": "stream",
     "text": [
      "Flu terms are  ['chest cold' 'cold sore' 'cold sweat' 'cold symptoms' 'common cold'\n",
      " 'cough' 'dry cough' 'head cold' 'influenza' 'influenza symptoms'\n",
      " 'productive cough']\n",
      "\n",
      "influenza symptoms    166\n",
      "common cold           160\n",
      "cough                 113\n",
      "influenza             104\n",
      "cold symptoms          46\n",
      "head cold              31\n",
      "dry cough              13\n",
      "cold sore               9\n",
      "productive cough        6\n",
      "chest cold              5\n",
      "cold sweat              1\n",
      "Name: REPTTERM, dtype: int64\n",
      "Unique Patients with cold-cough-flu symptoms = 525\n",
      "Patients with multiple cold-cough-flu symptoms = 93\n"
     ]
    }
   ],
   "source": [
    "key_terms = [\"flue\", \"cold\", \"cough\"]\n",
    "flu_terms = np.unique([s for s in ae_df.REPTTERM.unique() \n",
    "                       if np.any([key.lower() in s.lower() for key in key_terms])])\n",
    "print('Flu terms are ', flu_terms)\n",
    "print('')\n",
    "\n",
    "print(ae_df[ae_df.REPTTERM.isin(flu_terms)][\"REPTTERM\"].value_counts())\n",
    "ae_df[\"cold_cough_flu\"] = ae_df.REPTTERM.apply(lambda x: 1 if x in flu_terms else 0)\n",
    "## remove pre-treatment\n",
    "ae_df[\"cold_cough_flu\"] = (ae_df[\"cold_cough_flu\"] == 1) & \\\n",
    "                          (ae_df['PERIOD'] != 'Pre-Treatment') \n",
    "patients_with_issues = ae_df[ae_df[\"cold_cough_flu\"]==1].AN.unique()\n",
    "full_df['cold_cough_flu'] = 0\n",
    "full_df['cold_cough_flu'].loc[full_df.index.isin(patients_with_issues)] = 1\n",
    "print('Unique Patients with cold-cough-flu symptoms = %d'% \\\n",
    "      (len(patients_with_issues)))\n",
    "print('Patients with multiple cold-cough-flu symptoms = %d'% \\\n",
    "      (sum(ae_df[ae_df[\"cold_cough_flu\"]==1].AN.value_counts()>1)))\n",
    "\n",
    "# adding time to event\n",
    "full_df = full_df.merge(ae_df[ae_df[\"cold_cough_flu\"]==1].REL_DAY.groupby(ae_df.AN) \\\n",
    "                        .min().to_frame(),\n",
    "                        on=\"AN\", how='left')\n",
    "full_df[\"time_to_cold_cough_flu\"] = full_df[\"REL_DAY\"]\n",
    "full_df = full_df.drop([\"REL_DAY\"], axis=1)"
   ]
  },
  {
   "cell_type": "markdown",
   "metadata": {},
   "source": [
    "### 3.5 Nausea data"
   ]
  },
  {
   "cell_type": "code",
   "execution_count": 17,
   "metadata": {},
   "outputs": [
    {
     "name": "stdout",
     "output_type": "stream",
     "text": [
      "Nausea terms are  ['dizziness' 'nausea' 'orthostatic dizziness' 'vomiting']\n",
      "We remove orthostatic dizziness  ['dizziness' 'nausea' 'vomiting']\n",
      "nausea       570\n",
      "vomiting     211\n",
      "dizziness    198\n",
      "Name: REPTTERM, dtype: int64\n",
      "Unique Patients with naus-vomit-dizz symptoms = 707\n",
      "Patients with multiple naus-vomit-dizz symptoms = 193\n"
     ]
    }
   ],
   "source": [
    "key_terms = [\"nausea\", \"vomit\", \"dizz\"]\n",
    "nausea_terms = np.unique([s for s in ae_df.REPTTERM.unique() \n",
    "                          if np.any([key.lower() in s.lower() \n",
    "                                     for key in key_terms])])\n",
    "print('Nausea terms are ', nausea_terms)\n",
    "idx = np.where(nausea_terms=='orthostatic dizziness')[0]\n",
    "nausea_terms = np.delete(nausea_terms, idx)\n",
    "print('We remove orthostatic dizziness ', nausea_terms)\n",
    "\n",
    "print(ae_df[ae_df.REPTTERM.isin(nausea_terms)][\"REPTTERM\"].value_counts())\n",
    "ae_df[\"naus_vomit_dizz\"] = ae_df.REPTTERM.apply(lambda x:\n",
    "                                                1 if x in nausea_terms else 0)\n",
    "ae_df[\"naus_vomit_dizz\"] = (ae_df[\"naus_vomit_dizz\"] == 1) & \\\n",
    "                           (ae_df['PERIOD'] != 'Pre-Treatment')\n",
    "# remove pre-treatment\n",
    "patients_with_issues = ae_df[ae_df[\"naus_vomit_dizz\"]==1].AN.unique()\n",
    "full_df['naus_vomit_dizz'] = 0\n",
    "full_df['naus_vomit_dizz'].loc[full_df.index.isin(patients_with_issues)] = 1\n",
    "print('Unique Patients with naus-vomit-dizz symptoms = %d'% \\\n",
    "      (len(patients_with_issues)))\n",
    "print('Patients with multiple naus-vomit-dizz symptoms = %d'% \\\n",
    "      (sum(ae_df[ae_df[\"naus_vomit_dizz\"]==1].AN.value_counts()>1)))\n",
    "\n",
    "# adding time to event\n",
    "full_df = full_df.merge(ae_df[ae_df[\"naus_vomit_dizz\"]==1].REL_DAY \\\n",
    "                        .groupby(ae_df.AN).min().to_frame(),\n",
    "                        on=\"AN\", how='left')\n",
    "full_df[\"time_to_naus_vomit_dizz\"] = full_df[\"REL_DAY\"]\n",
    "full_df = full_df.drop([\"REL_DAY\"], axis=1)"
   ]
  },
  {
   "cell_type": "markdown",
   "metadata": {},
   "source": [
    "## 4. Data processing"
   ]
  },
  {
   "cell_type": "markdown",
   "metadata": {},
   "source": [
    "### 4.1 Add GI, severe_GI and TREATED labels"
   ]
  },
  {
   "cell_type": "code",
   "execution_count": 18,
   "metadata": {},
   "outputs": [],
   "source": [
    "# reformat treatment\n",
    "full_df[\"TREATED\"] = full_df.TREATMNT.apply(lambda x: \n",
    "                                            1 if x == \"tttt 50 mg\" else 0)\n",
    "\n",
    "# rename outcome and severe outcome columns\n",
    "full_df.rename(columns = {\"all_event_cfd\" : \"GI\"}, inplace = True)\n",
    "full_df[\"severe_GI\"] = full_df.GI * full_df.all_event_cmp\n",
    "\n",
    "# drop some useless columns\n",
    "full_df.drop(columns = [\"CMPDNUM\", \"AGE_UNIT\", \"TREATMNT\"], \n",
    "             inplace = True)"
   ]
  },
  {
   "cell_type": "markdown",
   "metadata": {},
   "source": [
    "### 4.2. Create binary features"
   ]
  },
  {
   "cell_type": "markdown",
   "metadata": {},
   "source": [
    "Here, we create binary features out of our demographic and risk factor data to be used in our later analysis."
   ]
  },
  {
   "cell_type": "code",
   "execution_count": 19,
   "metadata": {},
   "outputs": [
    {
     "name": "stdout",
     "output_type": "stream",
     "text": [
      "Smoker terms:  ['>20/day', '11-20/day', '6-10/day', '1-5/day', nan]\n"
     ]
    }
   ],
   "source": [
    "full_df['male'] = (full_df['GENDER'] == 'male').astype(int) # Gender\n",
    "full_df['white'] = full_df['RACE'].isin(['white', 'Europ']).astype(int) # Race\n",
    "full_df['US'] = (full_df['COUNTRY'] == 'United States').astype(int) # Country\n",
    "\n",
    "\"\"\"\n",
    "* Developing vs non-developing\n",
    "\"\"\"\n",
    "developed = ['United States', 'Norway', 'Australia', 'Canada', 'Germany', \n",
    "             'Finland', 'Hong Kong']\n",
    "non_developed = ['South Africa', 'Poland', 'Peru', 'Argentina', 'Brazil', \n",
    "                 'Chile', 'Colombia', 'Costa Rica', 'Czech Republic', \n",
    "                 'Ecuador', 'Guatemala', 'Malaysia', 'Mexico', 'New Zealand', \n",
    "                 'Costa Rica']\n",
    "full_df['developed'] = (full_df['COUNTRY'].isin(developed)).astype(int)\n",
    "\n",
    "\"\"\"\n",
    "* Overweight\n",
    "\n",
    "For adults 20 years old and older, BMI is interpreted using standard weight status categories.\n",
    "These categories are the same for men and women of all body types and ages.\n",
    "(https://www.cdc.gov/healthyweight/assessing/bmi/adult_bmi/index.html#InterpretedAdults)\n",
    "\"\"\"\n",
    "full_df['BMI'] = full_df['WEIGHT_K']/(full_df['HEIGHT_C']/100)**2\n",
    "full_df['overweight'] = (full_df['BMI'] > 25).astype(int)\n",
    "full_df['obese'] = (full_df['BMI'] > 30).astype(int)\n",
    "\n",
    "smoker_terms = [s for s in full_df.SMOKING.unique() if \"ex\" not in str(s) \n",
    "                and str(s) != \"never\"]\n",
    "print(\"Smoker terms: \", smoker_terms)\n",
    "full_df[\"smoker\"] = (full_df[\"SMOKING\"].isin(smoker_terms)).astype(int) # \n",
    "full_df[\"drinker\"] = (full_df[\"ALCOHOL\"] != \"none\").astype(int)"
   ]
  },
  {
   "cell_type": "code",
   "execution_count": 20,
   "metadata": {},
   "outputs": [],
   "source": [
    "\"\"\"\n",
    "* Elderly\n",
    "\n",
    "We consider two cut-offs 60 and 65 as per WHO\n",
    "https://www.who.int/healthinfo/survey/ageingdefnolder/en/#:~:text=Most%20developed%20\n",
    "world%20countries%20have,to%20the%20situation%20in%20Africa.\n",
    "We then adjust for other countries using life-expectancy.\n",
    "We believe adjsuted ones would be more useful because of the plot in the next cell.\n",
    "\"\"\"\n",
    "full_df['AGE_adj'] = full_df['AGE'] / full_df['Life_Expect']\n",
    "us_age_expect = life_expect[life_expect.COUNTRY=='United States'] \\\n",
    "                        [\"Life_Expect\"].values[0]\n",
    "\n",
    "full_df['elderly_60'] = full_df['AGE'] > 60\n",
    "full_df['elderly_60'] = full_df['elderly_60'].astype(int)\n",
    "\n",
    "cut_off = 60. / us_age_expect\n",
    "full_df['elderly_60_adj'] = full_df['AGE']/full_df['Life_Expect'] > cut_off\n",
    "full_df['elderly_60_adj'] = full_df['elderly_60_adj'].astype(int)\n",
    "\n",
    "full_df['elderly_65'] = full_df['AGE'] > 65\n",
    "full_df['elderly_65'] = full_df['elderly_65'].astype(int)\n",
    "\n",
    "cut_off = 65. / us_age_expect\n",
    "full_df['elderly_65_adj'] = full_df['AGE']/full_df['Life_Expect'] > 0.85\n",
    "full_df['elderly_65_adj'] = full_df['elderly_65_adj'].astype(int)"
   ]
  },
  {
   "cell_type": "code",
   "execution_count": 21,
   "metadata": {},
   "outputs": [
    {
     "name": "stdout",
     "output_type": "stream",
     "text": [
      "3498 4578\n"
     ]
    },
    {
     "data": {
      "image/png": "[encoded data removed]",
      "text/plain": [
       "<Figure size 864x360 with 2 Axes>"
      ]
     },
     "metadata": {},
     "output_type": "display_data"
    }
   ],
   "source": [
    "age_cutoffs = np.linspace(50, 75, 21)\n",
    "eld_adj_ratios = np.zeros((2, len(age_cutoffs)))\n",
    "eld_ratios = np.zeros((2, len(age_cutoffs)))\n",
    "print(sum(full_df.US==1), sum(full_df.US==0))\n",
    "for j, age_cutoff in enumerate(age_cutoffs):\n",
    "#     print(age_cutoff)\n",
    "    full_df['elderly'] = full_df['AGE'] > age_cutoff\n",
    "    full_df['elderly'] = full_df['elderly'].astype(int)\n",
    "\n",
    "    cut_off = age_cutoff / life_expect[life_expect.COUNTRY=='United States'] \\\n",
    "                                [\"Life_Expect\"].values[0]\n",
    "    full_df['elderly_adj'] = full_df['AGE']/full_df['Life_Expect'] > cut_off\n",
    "    full_df['elderly_adj'] = full_df['elderly_adj'].astype(int)\n",
    "\n",
    "    for k, feat in enumerate([\"elderly_adj\", 'elderly']):\n",
    "        for lab, val in zip(['US', 'Non-US'], [1, 0]):\n",
    "            idx = full_df['US']==val\n",
    "            temp = 100*sum(full_df.loc[idx, feat]) / sum(idx)\n",
    "            if k == 0:\n",
    "                eld_adj_ratios[val, j] = temp\n",
    "            else:\n",
    "                eld_ratios[val, j] = temp\n",
    "\n",
    "plt.figure(figsize=[12, 5])\n",
    "plt.subplot(121)\n",
    "plt.plot(age_cutoffs, eld_adj_ratios[0, :], label='Non-US')\n",
    "plt.plot(age_cutoffs, eld_adj_ratios[1, :], label='US')\n",
    "plt.legend()\n",
    "plt.grid(True)\n",
    "plt.xlabel('Norm. Age Cutoff')\n",
    "plt.ylabel('% Elderly Population')\n",
    "# plt.show()\n",
    "plt.subplot(122)\n",
    "plt.plot(age_cutoffs, eld_ratios[0, :], label='Non-US')\n",
    "plt.plot(age_cutoffs, eld_ratios[1, :], label='US')\n",
    "plt.legend()\n",
    "plt.grid(True)\n",
    "plt.xlabel('Direct Age Cutoff')\n",
    "plt.ylabel('% Elderly Population')\n",
    "plt.show()\n",
    "\n",
    "del full_df[\"elderly\"]\n",
    "del full_df[\"elderly_adj\"]"
   ]
  },
  {
   "cell_type": "code",
   "execution_count": 22,
   "metadata": {},
   "outputs": [
    {
     "data": {
      "text/plain": [
       "(Index(['PROTOCOL', 'STUDYNUM', 'AGE', 'GENDER', 'RACE', 'COUNTRY', 'DAYS_IN',\n",
       "        'DAYS_TRT', 'DISPOSTN', 'HEIGHT_C', 'WEIGHT_K', 'Life_Expect',\n",
       "        'ALCOHOL', 'SMOKING', 'AGEGRP', 'HYPGRP', 'DBTGRP', 'CHLGRP', 'ASPFDA',\n",
       "        'ASCGRP', 'PSTRDS', 'PNSAIDS', 'PNAPRXN', 'PUB_PRIOR_HISTORY',\n",
       "        'd_event', 'd_event_cfd', 'd_event_cmp', 'p_event', 'p_event_cfd',\n",
       "        'p_event_cmp', 'b_event', 'b_event_cfd', 'b_event_cmp', 'g_event',\n",
       "        'g_event_cfd', 'g_event_cmp', 'o_event', 'o_event_cfd', 'o_event_cmp',\n",
       "        'all_event', 'GI', 'all_event_cmp', 'EVENTDT', 'RAND_DT', 'time_to_GI',\n",
       "        'cfd_cardio', 'time_to_cfd_cardio', 'all_cardio', 'time_to_all_cardio',\n",
       "        'just_hypertension', 'time_to_just_hypertension', 'all_hypertension',\n",
       "        'time_to_all_hypertension', 'cold_cough_flu', 'time_to_cold_cough_flu',\n",
       "        'naus_vomit_dizz', 'time_to_naus_vomit_dizz', 'TREATED', 'severe_GI',\n",
       "        'male', 'white', 'US', 'developed', 'BMI', 'overweight', 'obese',\n",
       "        'smoker', 'drinker', 'AGE_adj', 'elderly_60', 'elderly_60_adj',\n",
       "        'elderly_65', 'elderly_65_adj'],\n",
       "       dtype='object'), (8076, 73))"
      ]
     },
     "execution_count": 22,
     "metadata": {},
     "output_type": "execute_result"
    }
   ],
   "source": [
    "full_df.keys(), full_df.shape"
   ]
  },
  {
   "cell_type": "markdown",
   "metadata": {},
   "source": [
    "Finally, check number of events for each type of outcome:"
   ]
  },
  {
   "cell_type": "code",
   "execution_count": 23,
   "metadata": {},
   "outputs": [
    {
     "name": "stdout",
     "output_type": "stream",
     "text": [
      "GI: 177\n",
      "severe_GI: 56\n",
      "all_hypertension: 567\n",
      "cfd_cardio: 59\n",
      "cold_cough_flu: 525\n",
      "naus_vomit_dizz: 707\n"
     ]
    }
   ],
   "source": [
    "outcomes = [\"GI\", \"severe_GI\", \"all_hypertension\", \"cfd_cardio\", \n",
    "            \"cold_cough_flu\", \"naus_vomit_dizz\"]\n",
    "for outcome in outcomes:\n",
    "    print(f\"{outcome}:\", full_df[outcome].sum())"
   ]
  },
  {
   "cell_type": "markdown",
   "metadata": {},
   "source": [
    "### 4.3. Discussion of missing values"
   ]
  },
  {
   "cell_type": "code",
   "execution_count": 17,
   "metadata": {},
   "outputs": [
    {
     "data": {
      "text/plain": [
       "HEIGHT_C                35\n",
       "WEIGHT_K                 1\n",
       "ALCOHOL                  1\n",
       "SMOKING                  1\n",
       "EVENTDT               7886\n",
       "time_to_GI            7886\n",
       "time_to_cfd_cardio    8017\n",
       "time_to_all_cardio    7992\n",
       "dtype: int64"
      ]
     },
     "execution_count": 17,
     "metadata": {},
     "output_type": "execute_result"
    }
   ],
   "source": [
    "full_df.isnull().sum()[full_df.isnull().sum() > 0]"
   ]
  },
  {
   "cell_type": "markdown",
   "metadata": {},
   "source": [
    "We just need to discuss how missing values for BMI, ALCOHOL and SMOKING are handled in the later analysis.\n",
    "We show below that\n",
    "- 1 NA for SMOKING treated as smoker\n",
    "- 1 NA for ALCOHOL treated as drinker\n",
    "- When thresholding for overweight/obese, 35 NA for BMI is treated as being BELOW the threshold (i.e., not overweight or obese)\n",
    "\n",
    "None of these patients have GI or Cardio events"
   ]
  },
  {
   "cell_type": "code",
   "execution_count": 23,
   "metadata": {},
   "outputs": [],
   "source": [
    "#full_df[full_df.ALCOHOL.isna()][[\"drinker\", \"GI\", \"cfd_cardio\"]]"
   ]
  },
  {
   "cell_type": "code",
   "execution_count": 24,
   "metadata": {},
   "outputs": [],
   "source": [
    "#full_df[full_df.SMOKING.isna()][[\"smoker\", \"GI\", \"cfd_cardio\"]]"
   ]
  },
  {
   "cell_type": "code",
   "execution_count": 25,
   "metadata": {},
   "outputs": [],
   "source": [
    "#full_df[full_df.BMI.isna()][[\"obese\", \"overweight\", \"GI\", \"cfd_cardio\"]]"
   ]
  },
  {
   "cell_type": "markdown",
   "metadata": {},
   "source": [
    "## 5. Split data and save"
   ]
  },
  {
   "cell_type": "code",
   "execution_count": 27,
   "metadata": {},
   "outputs": [],
   "source": [
    "full_df = full_df.reset_index()"
   ]
  },
  {
   "cell_type": "markdown",
   "metadata": {},
   "source": [
    "We do a stratified split of the data (by treatment and outcome) 6 times, once for each of the outcomes."
   ]
  },
  {
   "cell_type": "code",
   "execution_count": 7,
   "metadata": {},
   "outputs": [],
   "source": [
    "EXPORT_PATH = \"../../data/01_transformed/20jul2020\""
   ]
  },
  {
   "cell_type": "markdown",
   "metadata": {},
   "source": [
    "First save the full data"
   ]
  },
  {
   "cell_type": "code",
   "execution_count": 74,
   "metadata": {},
   "outputs": [],
   "source": [
    "full_df.to_csv(os.path.join(EXPORT_PATH, \"full_data.csv\"), index = False)"
   ]
  },
  {
   "cell_type": "markdown",
   "metadata": {},
   "source": [
    "Now do a stratified split for each outcome."
   ]
  },
  {
   "cell_type": "code",
   "execution_count": 31,
   "metadata": {},
   "outputs": [
    {
     "name": "stdout",
     "output_type": "stream",
     "text": [
      "GI\n",
      "-0.016199435764924316\n",
      "-0.016179641563428798\n",
      "severe_GI\n",
      "-0.005811048728835221\n",
      "-0.006217276483236051\n",
      "cfd_cardio\n",
      "0.00615322851090166\n",
      "0.004925972388789885\n",
      "all_hypertension\n",
      "0.03689111637993173\n",
      "0.03795721187025535\n",
      "cold_cough_flu\n",
      "0.005896760930776582\n",
      "0.0059504274185880335\n",
      "naus_vomit_dizz\n",
      "0.015288977922036318\n",
      "0.014534072331432668\n"
     ]
    }
   ],
   "source": [
    "for outcome in outcomes:\n",
    "    np.random.seed(0)\n",
    "    trainval_df, test_df = train_test_split(full_df, stratify = \\\n",
    "                                            full_df[outcome] + 2 * full_df[\"TREATED\"], \n",
    "                                            test_size = 0.2)\n",
    "    train_df, val_df = train_test_split(trainval_df, stratify = \\\n",
    "                                        trainval_df[outcome]+ 2 * trainval_df[\"TREATED\"], \n",
    "                                        test_size = 0.25)\n",
    "    os.system(\"mkdir \" + os.path.join(EXPORT_PATH, outcome))\n",
    "    trainval_df.to_csv(os.path.join(EXPORT_PATH, outcome, \"trainval_data.csv\"), \n",
    "                       index = False)\n",
    "    train_df.to_csv(os.path.join(EXPORT_PATH, outcome, \"train_data.csv\"), \n",
    "                    index = False)\n",
    "    val_df.to_csv(os.path.join(EXPORT_PATH, outcome, \"val_data.csv\"), \n",
    "                  index = False)\n",
    "    test_df.to_csv(os.path.join(EXPORT_PATH, outcome, \"test_data.csv\"), \n",
    "                   index = False)\n",
    "    \n",
    "    print(outcome)\n",
    "    print(train_df[train_df.TREATED==1][outcome].mean() - \\\n",
    "          train_df[train_df.TREATED==0][outcome].mean())\n",
    "    print(val_df[val_df.TREATED==1][outcome].mean() - \\\n",
    "          val_df[val_df.TREATED==0][outcome].mean())"
   ]
  }
 ],
 "metadata": {
  "kernelspec": {
   "display_name": "Python 3",
   "language": "python",
   "name": "python3"
  },
  "language_info": {
   "codemirror_mode": {
    "name": "ipython",
    "version": 3
   },
   "file_extension": ".py",
   "mimetype": "text/x-python",
   "name": "python",
   "nbconvert_exporter": "python",
   "pygments_lexer": "ipython3",
   "version": "3.6.6"
  }
 },
 "nbformat": 4,
 "nbformat_minor": 2
}
